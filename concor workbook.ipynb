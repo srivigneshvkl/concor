{
 "cells": [
  {
   "cell_type": "code",
   "execution_count": 1,
   "metadata": {},
   "outputs": [
    {
     "name": "stdout",
     "output_type": "stream",
     "text": [
      "1\n",
      "5\n",
      "lr m lrm hcdar wk\n",
      "hcdarlrm\n"
     ]
    }
   ],
   "source": [
    "a=int(input())\n",
    "b=int(input())\n",
    "c=input().split()\n",
    "d=input()"
   ]
  },
  {
   "cell_type": "code",
   "execution_count": 2,
   "metadata": {},
   "outputs": [],
   "source": [
    "import re\n",
    "s=sorted([re.findall(c[i],d)  for i in range(0,len(c)) if len(re.findall(c[i],d))>0])"
   ]
  },
  {
   "cell_type": "code",
   "execution_count": 3,
   "metadata": {},
   "outputs": [
    {
     "name": "stdout",
     "output_type": "stream",
     "text": [
      "(['hcdar'], ['lr'], ['m']) , (['hcdar'], ['lrm']) , "
     ]
    }
   ],
   "source": [
    "from itertools import combinations \n",
    "perm = list(combinations(s,len(s)-1))\n",
    "for i in perm:\n",
    "    u=len(str(i[0]))-4\n",
    "    for j in range(1,len(i)):\n",
    "        if u+(len(str(i[j]))-4)==len(d):\n",
    "            n=[i[k] for k in range(0,j+1)]\n",
    "            print(tuple(n),end=\" , \")\n",
    "        else:\n",
    "            u=u+(len(str(i[j]))-4)\n",
    "           "
   ]
  }
 ],
 "metadata": {
  "kernelspec": {
   "display_name": "Python 3",
   "language": "python",
   "name": "python3"
  },
  "language_info": {
   "codemirror_mode": {
    "name": "ipython",
    "version": 3
   },
   "file_extension": ".py",
   "mimetype": "text/x-python",
   "name": "python",
   "nbconvert_exporter": "python",
   "pygments_lexer": "ipython3",
   "version": "3.7.4"
  }
 },
 "nbformat": 4,
 "nbformat_minor": 2
}
